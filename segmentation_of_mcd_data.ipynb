{
  "nbformat": 4,
  "nbformat_minor": 0,
  "metadata": {
    "colab": {
      "provenance": []
    },
    "kernelspec": {
      "name": "python3",
      "display_name": "Python 3"
    },
    "language_info": {
      "name": "python"
    }
  },
  "cells": [
    {
      "cell_type": "markdown",
      "source": [
        "**IMPORTING THE LIBRARIES**"
      ],
      "metadata": {
        "id": "vCgL2tfEyZX5"
      }
    },
    {
      "cell_type": "code",
      "execution_count": 1,
      "metadata": {
        "id": "PIoVlVcZfg36"
      },
      "outputs": [],
      "source": [
        "import pandas as pd\n",
        "import numpy as np\n",
        "\n",
        "import warnings\n",
        "warnings.filterwarnings(\"ignore\")"
      ]
    },
    {
      "cell_type": "markdown",
      "source": [
        "**DATA PREPROCESSING**"
      ],
      "metadata": {
        "id": "lvLbFNIDyMxc"
      }
    },
    {
      "cell_type": "code",
      "source": [
        "df = pd.read_csv('mcdonalds.csv')\n",
        "attributes = ['yummy', 'convenient', 'spicy', 'fattening', 'greasy', 'fast', 'cheap', 'tasty', 'expensive', 'healthy', 'disgusting']\n",
        "\n",
        "\n",
        "# for column in attributes:\n",
        "\n",
        "#   df[column] = df[column].map({'Yes':1, 'No':0})\n",
        "\n",
        "df['freq/year'] = df['VisitFrequency'].map({'Every three months':4, 'Once a month':12, 'Once a year':1, 'Once a week':52, 'More than once a week':52, 'Never':0})\n",
        "df['Like'] = df['Like'].str.extract('(\\d+)').astype(int)\n",
        "df.drop(['VisitFrequency'], inplace=True, axis=1)\n",
        "#df['Gender'] = df['Gender'].map({'Female':0, 'Male':1})\n",
        "df['disgusting'] = df['disgusting'].map({'No':0, 'Yes':1})\n",
        "\n",
        "# extracting descriptor variables\n",
        "X = df.iloc[:, 11:15]"
      ],
      "metadata": {
        "id": "ZBwOLalafrts"
      },
      "execution_count": 96,
      "outputs": []
    },
    {
      "cell_type": "code",
      "source": [],
      "metadata": {
        "id": "RQ_A3Tf9Wh8Z"
      },
      "execution_count": 74,
      "outputs": []
    },
    {
      "cell_type": "markdown",
      "source": [
        "**MEAN FREQUENCY OF EACH AGE GROUP**"
      ],
      "metadata": {
        "id": "gR0QTh7G0ax-"
      }
    },
    {
      "cell_type": "code",
      "source": [
        "# Young\n",
        "X['freq/year'][(X['Age']>0) & (X['Age']<35)].sum()/X[(X['Age']>0) & (X['Age']<35)].dropna().shape[0]"
      ],
      "metadata": {
        "id": "lws4FSiAWQQh",
        "outputId": "06429fe9-0885-4379-905d-3408f93692f2",
        "colab": {
          "base_uri": "https://localhost:8080/"
        }
      },
      "execution_count": 82,
      "outputs": [
        {
          "output_type": "execute_result",
          "data": {
            "text/plain": [
              "21.360576923076923"
            ]
          },
          "metadata": {},
          "execution_count": 82
        }
      ]
    },
    {
      "cell_type": "code",
      "source": [
        "# Adult\n",
        "X['freq/year'][(X['Age']>35) & (X['Age']<52)].sum()/X[(X['Age']>35) & (X['Age']<52)].dropna().shape[0]"
      ],
      "metadata": {
        "id": "veU7zAXL0RsH",
        "outputId": "7888853c-20fe-47e7-a588-5a7733dfdb16",
        "colab": {
          "base_uri": "https://localhost:8080/"
        }
      },
      "execution_count": 91,
      "outputs": [
        {
          "output_type": "execute_result",
          "data": {
            "text/plain": [
              "16.034782608695654"
            ]
          },
          "metadata": {},
          "execution_count": 91
        }
      ]
    },
    {
      "cell_type": "code",
      "source": [
        "# Senior\n",
        "X['freq/year'][(X['Age']>52) & (X['Age']<100)].sum()/X[(X['Age']>52) & (X['Age']<100)].dropna().shape[0]"
      ],
      "metadata": {
        "id": "v3uW46gC0UsR",
        "outputId": "dab126af-9bd2-4ac4-c602-865bc3190735",
        "colab": {
          "base_uri": "https://localhost:8080/"
        }
      },
      "execution_count": 92,
      "outputs": [
        {
          "output_type": "execute_result",
          "data": {
            "text/plain": [
              "9.299412915851272"
            ]
          },
          "metadata": {},
          "execution_count": 92
        }
      ]
    },
    {
      "cell_type": "code",
      "source": [
        "X.shape"
      ],
      "metadata": {
        "colab": {
          "base_uri": "https://localhost:8080/"
        },
        "id": "ThtB16knSpmG",
        "outputId": "6f7ea8d5-de36-42d9-a15a-c3610a22ee10"
      },
      "execution_count": 52,
      "outputs": [
        {
          "output_type": "execute_result",
          "data": {
            "text/plain": [
              "(1453, 3)"
            ]
          },
          "metadata": {},
          "execution_count": 52
        }
      ]
    },
    {
      "cell_type": "markdown",
      "source": [
        "**MEAN FREQUECY FOR EACH GENDER**"
      ],
      "metadata": {
        "id": "Ea-eKNKL0yi3"
      }
    },
    {
      "cell_type": "code",
      "source": [
        "# Male\n",
        "X['freq/year'][X['Gender']==1].sum()/X[X['Gender']==1].dropna().shape[0]"
      ],
      "metadata": {
        "id": "afRoR3bY04DL",
        "outputId": "5fd25c51-9ddd-4024-b4e8-0ad25ce314d7",
        "colab": {
          "base_uri": "https://localhost:8080/"
        }
      },
      "execution_count": 89,
      "outputs": [
        {
          "output_type": "execute_result",
          "data": {
            "text/plain": [
              "16.04812030075188"
            ]
          },
          "metadata": {},
          "execution_count": 89
        }
      ]
    },
    {
      "cell_type": "code",
      "source": [
        "# Male\n",
        "X['freq/year'][X['Gender']==0].sum()/X[X['Gender']==0].dropna().shape[0]"
      ],
      "metadata": {
        "id": "CXc0uek-03kB",
        "outputId": "45a4109b-76ec-423e-e15a-20215e333286",
        "colab": {
          "base_uri": "https://localhost:8080/"
        }
      },
      "execution_count": 90,
      "outputs": [
        {
          "output_type": "execute_result",
          "data": {
            "text/plain": [
              "14.269035532994923"
            ]
          },
          "metadata": {},
          "execution_count": 90
        }
      ]
    },
    {
      "cell_type": "code",
      "source": [
        "# X.to_csv('sample.csv')"
      ],
      "metadata": {
        "id": "HN5UtdLJIsZa"
      },
      "execution_count": 30,
      "outputs": []
    },
    {
      "cell_type": "markdown",
      "source": [
        "**CLUSTERING THE DATA**"
      ],
      "metadata": {
        "id": "HiK3g3oh2kxW"
      }
    },
    {
      "cell_type": "code",
      "source": [
        "from sklearn.cluster import KMeans\n",
        "import matplotlib.pyplot as plt\n",
        "\n",
        "wcss = []\n",
        "\n",
        "for i in range(1,11):\n",
        "  kmeans = KMeans(n_clusters=i, random_state=0, init='k-means++')\n",
        "  kmeans.fit(X)\n",
        "  wcss.append(kmeans.inertia_)\n",
        "\n",
        "plt.plot(range(1,11), wcss)\n",
        "plt.title('Elbow method analysis')\n",
        "plt.xlabel('Number of clusters')\n",
        "plt.ylabel('WCSS values')\n",
        "plt.show()"
      ],
      "metadata": {
        "colab": {
          "base_uri": "https://localhost:8080/",
          "height": 472
        },
        "id": "Q5EUNGXgmEqk",
        "outputId": "1593b03a-1e3f-468e-9a2e-eb3c60650426"
      },
      "execution_count": 55,
      "outputs": [
        {
          "output_type": "display_data",
          "data": {
            "text/plain": [
              "<Figure size 640x480 with 1 Axes>"
            ],
            "image/png": "[encoded data removed]"
          },
          "metadata": {}
        }
      ]
    },
    {
      "cell_type": "code",
      "source": [
        "kmeansmodel = KMeans(n_clusters = 3, init='k-means++', random_state=0)\n",
        "y_kmeans = kmeansmodel.fit_predict(X)"
      ],
      "metadata": {
        "id": "Q_5XnyVk084F"
      },
      "execution_count": 56,
      "outputs": []
    },
    {
      "cell_type": "code",
      "source": [
        "# Printing the centres of clusters \n",
        "kmeansmodel.cluster_centers_"
      ],
      "metadata": {
        "id": "r-pdNr5f-S8O",
        "outputId": "ac0aa04e-c51d-43a1-e898-c5143d07a9ab",
        "colab": {
          "base_uri": "https://localhost:8080/"
        }
      },
      "execution_count": 99,
      "outputs": [
        {
          "output_type": "execute_result",
          "data": {
            "text/plain": [
              "array([[ 2.66727605, 59.69104205,  0.43327239],\n",
              "       [ 2.94843049, 27.33183857,  0.46188341],\n",
              "       [ 2.68043478, 43.41304348,  0.4826087 ]])"
            ]
          },
          "metadata": {},
          "execution_count": 99
        }
      ]
    },
    {
      "cell_type": "markdown",
      "source": [
        "**PLOTTING THE CLUSTERS**"
      ],
      "metadata": {
        "id": "zbB-2fF2-pea"
      }
    },
    {
      "cell_type": "code",
      "source": [
        "import matplotlib.pyplot as plt\n",
        "\n",
        "x1 = X['Age'].to_numpy()\n",
        "x3 = X['Like'].to_numpy()\n",
        "\n",
        "fig = plt.figure()\n",
        "ax = plt.axes()\n",
        "\n",
        "colors = ['green','red','cyan']\n",
        "\n",
        "for i in range(3):\n",
        "\n",
        "  masked = X[X['cluster']==i]\n",
        "  x1 = masked['Age'].to_numpy()\n",
        "  x3 = masked['Like'].to_numpy()\n",
        "  ax.scatter(x1, x3, cmap=colors[i]);\n"
      ],
      "metadata": {
        "colab": {
          "base_uri": "https://localhost:8080/",
          "height": 430
        },
        "id": "AWvOrf5UHdqa",
        "outputId": "ee04d51f-3fa9-4aa5-8a9f-286cdfbd7a6f"
      },
      "execution_count": 70,
      "outputs": [
        {
          "output_type": "display_data",
          "data": {
            "text/plain": [
              "<Figure size 640x480 with 1 Axes>"
            ],
            "image/png": "[encoded data removed]"
          },
          "metadata": {}
        }
      ]
    },
    {
      "cell_type": "code",
      "source": [
        "from statsmodels.graphics.mosaicplot import mosaic\n",
        "\n",
        "mosaic(X, ['Gender','Like'])"
      ],
      "metadata": {
        "colab": {
          "base_uri": "https://localhost:8080/",
          "height": 1000
        },
        "id": "xnKxsJwP08ln",
        "outputId": "bd17fbd0-d3ef-46af-91e0-856dc07aa633"
      },
      "execution_count": 97,
      "outputs": [
        {
          "output_type": "execute_result",
          "data": {
            "text/plain": [
              "(<Figure size 640x480 with 3 Axes>,\n",
              " {('Female', '3'): (0.0, 0.0, 0.539628081204439, 0.21844054256470002),\n",
              "  ('Female', '2'): (0.0,\n",
              "   0.22171923108929018,\n",
              "   0.539628081204439,\n",
              "   0.17100773903636518),\n",
              "  ('Female', '1'): (0.0,\n",
              "   0.3960056586502455,\n",
              "   0.539628081204439,\n",
              "   0.1348090205542149),\n",
              "  ('Female', '4'): (0.0,\n",
              "   0.5340933677290506,\n",
              "   0.539628081204439,\n",
              "   0.15103603228759252),\n",
              "  ('Female', '5'): (0.0,\n",
              "   0.6884080885412333,\n",
              "   0.539628081204439,\n",
              "   0.20221353083132232),\n",
              "  ('Female', '0'): (0.0,\n",
              "   0.8939003078971458,\n",
              "   0.539628081204439,\n",
              "   0.10609969210285432),\n",
              "  ('Male', '3'): (0.5446032055825484,\n",
              "   0.0,\n",
              "   0.45539679441745173,\n",
              "   0.18784666584494022),\n",
              "  ('Male', '2'): (0.5446032055825484,\n",
              "   0.19112535436953038,\n",
              "   0.45539679441745173,\n",
              "   0.1612227289535314),\n",
              "  ('Male', '1'): (0.5446032055825484,\n",
              "   0.35562677184765196,\n",
              "   0.45539679441745173,\n",
              "   0.15086897571798347),\n",
              "  ('Male', '4'): (0.5446032055825484,\n",
              "   0.5097744360902255,\n",
              "   0.45539679441745173,\n",
              "   0.16270183655860965),\n",
              "  ('Male', '5'): (0.5446032055825484,\n",
              "   0.6757549611734254,\n",
              "   0.45539679441745173,\n",
              "   0.19672131147540992),\n",
              "  ('Male', '0'): (0.5446032055825484,\n",
              "   0.8757549611734256,\n",
              "   0.45539679441745173,\n",
              "   0.12424503882657459)})"
            ]
          },
          "metadata": {},
          "execution_count": 97
        },
        {
          "output_type": "display_data",
          "data": {
            "text/plain": [
              "<Figure size 640x480 with 3 Axes>"
            ],
            "image/png": "[encoded data removed]"
          },
          "metadata": {}
        }
      ]
    },
    {
      "cell_type": "code",
      "source": [],
      "metadata": {
        "id": "f4EKm3cSxJIO"
      },
      "execution_count": null,
      "outputs": []
    }
  ]
}